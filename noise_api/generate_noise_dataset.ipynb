{
 "cells": [
  {
   "cell_type": "code",
   "execution_count": 1,
   "metadata": {},
   "outputs": [],
   "source": [
    "from pathlib import Path\n",
    "import random\n",
    "from tqdm import tqdm\n",
    "import pandas as pd\n",
    "import numpy as np\n",
    "import shutil\n",
    "from utils.functions import get_video_length\n",
    "from utils.real_noise import real_noise_config, real_noise\n",
    "\n",
    "ROOT_DIR = Path(\"/home/sharing/disk1/Datasets/MSA/MMSA_Standard/MSA_RT/Raw/\")\n",
    "SEED = 40\n",
    "\n",
    "video_paths = list((ROOT_DIR / \"original\").glob(\"*.mp4\"))\n",
    "video_paths.sort()\n",
    "\n",
    "def setup_seed(seed):\n",
    "    random.seed(seed)\n",
    "    np.random.seed(seed)"
   ]
  },
  {
   "cell_type": "code",
   "execution_count": 2,
   "metadata": {},
   "outputs": [
    {
     "ename": "FileNotFoundError",
     "evalue": "[Errno 2] No such file or directory: '/home/sharing/disk1/Datasets/MSA/MMSA_Standard/MSA_RT/label.csv'",
     "output_type": "error",
     "traceback": [
      "\u001b[0;31m---------------------------------------------------------------------------\u001b[0m",
      "\u001b[0;31mFileNotFoundError\u001b[0m                         Traceback (most recent call last)",
      "Cell \u001b[0;32mIn[2], line 1\u001b[0m\n\u001b[0;32m----> 1\u001b[0m data \u001b[39m=\u001b[39m pd\u001b[39m.\u001b[39;49mread_csv(\u001b[39m\"\u001b[39;49m\u001b[39m/home/sharing/disk1/Datasets/MSA/MMSA_Standard/MSA_RT/label.csv\u001b[39;49m\u001b[39m\"\u001b[39;49m)\n\u001b[1;32m      2\u001b[0m data[\u001b[39m'\u001b[39m\u001b[39mannotation\u001b[39m\u001b[39m'\u001b[39m]\u001b[39m.\u001b[39mvalue_counts()\n",
      "File \u001b[0;32m~/anaconda3/envs/nenv/lib/python3.10/site-packages/pandas/io/parsers/readers.py:912\u001b[0m, in \u001b[0;36mread_csv\u001b[0;34m(filepath_or_buffer, sep, delimiter, header, names, index_col, usecols, dtype, engine, converters, true_values, false_values, skipinitialspace, skiprows, skipfooter, nrows, na_values, keep_default_na, na_filter, verbose, skip_blank_lines, parse_dates, infer_datetime_format, keep_date_col, date_parser, date_format, dayfirst, cache_dates, iterator, chunksize, compression, thousands, decimal, lineterminator, quotechar, quoting, doublequote, escapechar, comment, encoding, encoding_errors, dialect, on_bad_lines, delim_whitespace, low_memory, memory_map, float_precision, storage_options, dtype_backend)\u001b[0m\n\u001b[1;32m    899\u001b[0m kwds_defaults \u001b[39m=\u001b[39m _refine_defaults_read(\n\u001b[1;32m    900\u001b[0m     dialect,\n\u001b[1;32m    901\u001b[0m     delimiter,\n\u001b[0;32m   (...)\u001b[0m\n\u001b[1;32m    908\u001b[0m     dtype_backend\u001b[39m=\u001b[39mdtype_backend,\n\u001b[1;32m    909\u001b[0m )\n\u001b[1;32m    910\u001b[0m kwds\u001b[39m.\u001b[39mupdate(kwds_defaults)\n\u001b[0;32m--> 912\u001b[0m \u001b[39mreturn\u001b[39;00m _read(filepath_or_buffer, kwds)\n",
      "File \u001b[0;32m~/anaconda3/envs/nenv/lib/python3.10/site-packages/pandas/io/parsers/readers.py:577\u001b[0m, in \u001b[0;36m_read\u001b[0;34m(filepath_or_buffer, kwds)\u001b[0m\n\u001b[1;32m    574\u001b[0m _validate_names(kwds\u001b[39m.\u001b[39mget(\u001b[39m\"\u001b[39m\u001b[39mnames\u001b[39m\u001b[39m\"\u001b[39m, \u001b[39mNone\u001b[39;00m))\n\u001b[1;32m    576\u001b[0m \u001b[39m# Create the parser.\u001b[39;00m\n\u001b[0;32m--> 577\u001b[0m parser \u001b[39m=\u001b[39m TextFileReader(filepath_or_buffer, \u001b[39m*\u001b[39;49m\u001b[39m*\u001b[39;49mkwds)\n\u001b[1;32m    579\u001b[0m \u001b[39mif\u001b[39;00m chunksize \u001b[39mor\u001b[39;00m iterator:\n\u001b[1;32m    580\u001b[0m     \u001b[39mreturn\u001b[39;00m parser\n",
      "File \u001b[0;32m~/anaconda3/envs/nenv/lib/python3.10/site-packages/pandas/io/parsers/readers.py:1407\u001b[0m, in \u001b[0;36mTextFileReader.__init__\u001b[0;34m(self, f, engine, **kwds)\u001b[0m\n\u001b[1;32m   1404\u001b[0m     \u001b[39mself\u001b[39m\u001b[39m.\u001b[39moptions[\u001b[39m\"\u001b[39m\u001b[39mhas_index_names\u001b[39m\u001b[39m\"\u001b[39m] \u001b[39m=\u001b[39m kwds[\u001b[39m\"\u001b[39m\u001b[39mhas_index_names\u001b[39m\u001b[39m\"\u001b[39m]\n\u001b[1;32m   1406\u001b[0m \u001b[39mself\u001b[39m\u001b[39m.\u001b[39mhandles: IOHandles \u001b[39m|\u001b[39m \u001b[39mNone\u001b[39;00m \u001b[39m=\u001b[39m \u001b[39mNone\u001b[39;00m\n\u001b[0;32m-> 1407\u001b[0m \u001b[39mself\u001b[39m\u001b[39m.\u001b[39m_engine \u001b[39m=\u001b[39m \u001b[39mself\u001b[39;49m\u001b[39m.\u001b[39;49m_make_engine(f, \u001b[39mself\u001b[39;49m\u001b[39m.\u001b[39;49mengine)\n",
      "File \u001b[0;32m~/anaconda3/envs/nenv/lib/python3.10/site-packages/pandas/io/parsers/readers.py:1661\u001b[0m, in \u001b[0;36mTextFileReader._make_engine\u001b[0;34m(self, f, engine)\u001b[0m\n\u001b[1;32m   1659\u001b[0m     \u001b[39mif\u001b[39;00m \u001b[39m\"\u001b[39m\u001b[39mb\u001b[39m\u001b[39m\"\u001b[39m \u001b[39mnot\u001b[39;00m \u001b[39min\u001b[39;00m mode:\n\u001b[1;32m   1660\u001b[0m         mode \u001b[39m+\u001b[39m\u001b[39m=\u001b[39m \u001b[39m\"\u001b[39m\u001b[39mb\u001b[39m\u001b[39m\"\u001b[39m\n\u001b[0;32m-> 1661\u001b[0m \u001b[39mself\u001b[39m\u001b[39m.\u001b[39mhandles \u001b[39m=\u001b[39m get_handle(\n\u001b[1;32m   1662\u001b[0m     f,\n\u001b[1;32m   1663\u001b[0m     mode,\n\u001b[1;32m   1664\u001b[0m     encoding\u001b[39m=\u001b[39;49m\u001b[39mself\u001b[39;49m\u001b[39m.\u001b[39;49moptions\u001b[39m.\u001b[39;49mget(\u001b[39m\"\u001b[39;49m\u001b[39mencoding\u001b[39;49m\u001b[39m\"\u001b[39;49m, \u001b[39mNone\u001b[39;49;00m),\n\u001b[1;32m   1665\u001b[0m     compression\u001b[39m=\u001b[39;49m\u001b[39mself\u001b[39;49m\u001b[39m.\u001b[39;49moptions\u001b[39m.\u001b[39;49mget(\u001b[39m\"\u001b[39;49m\u001b[39mcompression\u001b[39;49m\u001b[39m\"\u001b[39;49m, \u001b[39mNone\u001b[39;49;00m),\n\u001b[1;32m   1666\u001b[0m     memory_map\u001b[39m=\u001b[39;49m\u001b[39mself\u001b[39;49m\u001b[39m.\u001b[39;49moptions\u001b[39m.\u001b[39;49mget(\u001b[39m\"\u001b[39;49m\u001b[39mmemory_map\u001b[39;49m\u001b[39m\"\u001b[39;49m, \u001b[39mFalse\u001b[39;49;00m),\n\u001b[1;32m   1667\u001b[0m     is_text\u001b[39m=\u001b[39;49mis_text,\n\u001b[1;32m   1668\u001b[0m     errors\u001b[39m=\u001b[39;49m\u001b[39mself\u001b[39;49m\u001b[39m.\u001b[39;49moptions\u001b[39m.\u001b[39;49mget(\u001b[39m\"\u001b[39;49m\u001b[39mencoding_errors\u001b[39;49m\u001b[39m\"\u001b[39;49m, \u001b[39m\"\u001b[39;49m\u001b[39mstrict\u001b[39;49m\u001b[39m\"\u001b[39;49m),\n\u001b[1;32m   1669\u001b[0m     storage_options\u001b[39m=\u001b[39;49m\u001b[39mself\u001b[39;49m\u001b[39m.\u001b[39;49moptions\u001b[39m.\u001b[39;49mget(\u001b[39m\"\u001b[39;49m\u001b[39mstorage_options\u001b[39;49m\u001b[39m\"\u001b[39;49m, \u001b[39mNone\u001b[39;49;00m),\n\u001b[1;32m   1670\u001b[0m )\n\u001b[1;32m   1671\u001b[0m \u001b[39massert\u001b[39;00m \u001b[39mself\u001b[39m\u001b[39m.\u001b[39mhandles \u001b[39mis\u001b[39;00m \u001b[39mnot\u001b[39;00m \u001b[39mNone\u001b[39;00m\n\u001b[1;32m   1672\u001b[0m f \u001b[39m=\u001b[39m \u001b[39mself\u001b[39m\u001b[39m.\u001b[39mhandles\u001b[39m.\u001b[39mhandle\n",
      "File \u001b[0;32m~/anaconda3/envs/nenv/lib/python3.10/site-packages/pandas/io/common.py:859\u001b[0m, in \u001b[0;36mget_handle\u001b[0;34m(path_or_buf, mode, encoding, compression, memory_map, is_text, errors, storage_options)\u001b[0m\n\u001b[1;32m    854\u001b[0m \u001b[39melif\u001b[39;00m \u001b[39misinstance\u001b[39m(handle, \u001b[39mstr\u001b[39m):\n\u001b[1;32m    855\u001b[0m     \u001b[39m# Check whether the filename is to be opened in binary mode.\u001b[39;00m\n\u001b[1;32m    856\u001b[0m     \u001b[39m# Binary mode does not support 'encoding' and 'newline'.\u001b[39;00m\n\u001b[1;32m    857\u001b[0m     \u001b[39mif\u001b[39;00m ioargs\u001b[39m.\u001b[39mencoding \u001b[39mand\u001b[39;00m \u001b[39m\"\u001b[39m\u001b[39mb\u001b[39m\u001b[39m\"\u001b[39m \u001b[39mnot\u001b[39;00m \u001b[39min\u001b[39;00m ioargs\u001b[39m.\u001b[39mmode:\n\u001b[1;32m    858\u001b[0m         \u001b[39m# Encoding\u001b[39;00m\n\u001b[0;32m--> 859\u001b[0m         handle \u001b[39m=\u001b[39m \u001b[39mopen\u001b[39;49m(\n\u001b[1;32m    860\u001b[0m             handle,\n\u001b[1;32m    861\u001b[0m             ioargs\u001b[39m.\u001b[39;49mmode,\n\u001b[1;32m    862\u001b[0m             encoding\u001b[39m=\u001b[39;49mioargs\u001b[39m.\u001b[39;49mencoding,\n\u001b[1;32m    863\u001b[0m             errors\u001b[39m=\u001b[39;49merrors,\n\u001b[1;32m    864\u001b[0m             newline\u001b[39m=\u001b[39;49m\u001b[39m\"\u001b[39;49m\u001b[39m\"\u001b[39;49m,\n\u001b[1;32m    865\u001b[0m         )\n\u001b[1;32m    866\u001b[0m     \u001b[39melse\u001b[39;00m:\n\u001b[1;32m    867\u001b[0m         \u001b[39m# Binary mode\u001b[39;00m\n\u001b[1;32m    868\u001b[0m         handle \u001b[39m=\u001b[39m \u001b[39mopen\u001b[39m(handle, ioargs\u001b[39m.\u001b[39mmode)\n",
      "\u001b[0;31mFileNotFoundError\u001b[0m: [Errno 2] No such file or directory: '/home/sharing/disk1/Datasets/MSA/MMSA_Standard/MSA_RT/label.csv'"
     ]
    }
   ],
   "source": [
    "data = pd.read_csv(\"/home/sharing/disk1/Datasets/MSA/MMSA_Standard/MSA_RT/label.csv\")\n",
    "data['annotation'].value_counts()"
   ]
  },
  {
   "attachments": {},
   "cell_type": "markdown",
   "metadata": {},
   "source": [
    "# Missing"
   ]
  },
  {
   "attachments": {},
   "cell_type": "markdown",
   "metadata": {},
   "source": [
    "### 视频缺失"
   ]
  },
  {
   "cell_type": "code",
   "execution_count": 3,
   "metadata": {},
   "outputs": [
    {
     "name": "stderr",
     "output_type": "stream",
     "text": [
      "Missing rate: 0.1: 100%|██████████| 62/62 [01:46<00:00,  1.72s/it]\n",
      "Missing rate: 0.2: 100%|██████████| 62/62 [01:46<00:00,  1.72s/it]\n",
      "Missing rate: 0.4: 100%|██████████| 62/62 [01:43<00:00,  1.66s/it]\n",
      "Missing rate: 0.6: 100%|██████████| 62/62 [01:43<00:00,  1.67s/it]\n",
      "Missing rate: 0.8: 100%|██████████| 62/62 [01:41<00:00,  1.63s/it]\n",
      "Missing rate: 1.0: 100%|██████████| 62/62 [01:32<00:00,  1.49s/it]\n"
     ]
    }
   ],
   "source": [
    "setup_seed(SEED)\n",
    "missing_rates = [0.1, 0.2, 0.4, 0.6, 0.8, 1.0]\n",
    "for missing_rate in missing_rates:\n",
    "    (Path(ROOT_DIR) / \"video_missing\" / str(missing_rate)).mkdir(parents=True, exist_ok=True)\n",
    "    pbar = tqdm(video_paths)\n",
    "    pbar.set_description(f\"Missing rate: {missing_rate}\")\n",
    "    for v_path in pbar:\n",
    "        cfg = real_noise_config(\n",
    "            v_path, \n",
    "            mode = \"random_full\", \n",
    "            v_noise_list=[\"blank\"], \n",
    "            v_noise_num = 1 if missing_rate in [0.1, 0.2, 0.4, 1.0] else (1, 3),\n",
    "            v_noise_ratio = missing_rate,\n",
    "            a_noise_list = [],\n",
    "        )\n",
    "        out_path = Path(ROOT_DIR) / \"video_missing\" / str(missing_rate) / v_path.name\n",
    "        out_path.parent.mkdir(parents=True, exist_ok=True)\n",
    "        real_noise(v_path, out_path, **cfg._asdict())"
   ]
  },
  {
   "attachments": {},
   "cell_type": "markdown",
   "metadata": {},
   "source": [
    "### 音频缺失"
   ]
  },
  {
   "cell_type": "code",
   "execution_count": 4,
   "metadata": {},
   "outputs": [
    {
     "name": "stderr",
     "output_type": "stream",
     "text": [
      "Missing rate: 0.1: 100%|██████████| 62/62 [00:13<00:00,  4.67it/s]\n",
      "Missing rate: 0.2: 100%|██████████| 62/62 [00:12<00:00,  4.81it/s]\n",
      "Missing rate: 0.4: 100%|██████████| 62/62 [00:11<00:00,  5.17it/s]\n",
      "Missing rate: 0.6: 100%|██████████| 62/62 [00:11<00:00,  5.24it/s]\n",
      "Missing rate: 0.8: 100%|██████████| 62/62 [00:10<00:00,  6.08it/s]\n",
      "Missing rate: 1.0: 100%|██████████| 62/62 [00:08<00:00,  7.05it/s]\n"
     ]
    }
   ],
   "source": [
    "setup_seed(SEED)\n",
    "missing_rates = [0.1, 0.2, 0.4, 0.6, 0.8, 1.0]\n",
    "for missing_rate in missing_rates:\n",
    "    (Path(ROOT_DIR) / \"audio_missing\" / str(missing_rate)).mkdir(parents=True, exist_ok=True)\n",
    "    pbar = tqdm(video_paths)\n",
    "    pbar.set_description(f\"Missing rate: {missing_rate}\")\n",
    "    for v_path in pbar:\n",
    "        cfg = real_noise_config(\n",
    "            v_path, \n",
    "            mode = \"random_full\", \n",
    "            v_noise_list=[], \n",
    "            a_noise_list = [\"mute\"],\n",
    "            a_noise_num = 1 if missing_rate in [0.1, 0.2, 0.4, 1.0] else (1, 3),\n",
    "            a_noise_ratio = missing_rate,\n",
    "        )\n",
    "        out_path = Path(ROOT_DIR) / \"audio_missing\" / str(missing_rate) / v_path.name\n",
    "        out_path.parent.mkdir(parents=True, exist_ok=True)\n",
    "        real_noise(v_path, out_path, **cfg._asdict())"
   ]
  },
  {
   "attachments": {},
   "cell_type": "markdown",
   "metadata": {},
   "source": [
    "### 音视频同步缺失"
   ]
  },
  {
   "cell_type": "code",
   "execution_count": 5,
   "metadata": {},
   "outputs": [
    {
     "name": "stderr",
     "output_type": "stream",
     "text": [
      "Missing rate: 0.1: 100%|██████████| 62/62 [01:53<00:00,  1.83s/it]\n",
      "Missing rate: 0.2: 100%|██████████| 62/62 [01:53<00:00,  1.83s/it]\n",
      "Missing rate: 0.4: 100%|██████████| 62/62 [01:49<00:00,  1.77s/it]\n",
      "Missing rate: 0.6: 100%|██████████| 62/62 [01:49<00:00,  1.76s/it]\n",
      "Missing rate: 0.8: 100%|██████████| 62/62 [01:45<00:00,  1.70s/it]\n"
     ]
    }
   ],
   "source": [
    "setup_seed(SEED)\n",
    "missing_rates = [0.1, 0.2, 0.4, 0.6, 0.8]\n",
    "for missing_rate in missing_rates:\n",
    "    (Path(ROOT_DIR) / \"sync_missing\" / str(missing_rate)).mkdir(parents=True, exist_ok=True)\n",
    "    pbar = tqdm(video_paths)\n",
    "    pbar.set_description(f\"Missing rate: {missing_rate}\")\n",
    "    for v_path in pbar:\n",
    "        cfg = real_noise_config(\n",
    "            v_path, \n",
    "            mode = \"random_full\", \n",
    "            v_noise_list=[\"blank\"],\n",
    "            v_noise_num = 1 if missing_rate in [0.1, 0.2, 0.4] else (1, 3),\n",
    "            v_noise_ratio = missing_rate, \n",
    "            a_noise_list = [],\n",
    "        )._asdict()\n",
    "        cfg['a_mode'] = [\"volume\"] * len(cfg['v_mode'])\n",
    "        cfg['a_option'] = [0.0] * len(cfg['a_mode'])\n",
    "        cfg['a_start'] = cfg['v_start']\n",
    "        cfg['a_end'] = cfg['v_end']\n",
    "        out_path = Path(ROOT_DIR) / \"sync_missing\" / str(missing_rate) / v_path.name\n",
    "        out_path.parent.mkdir(parents=True, exist_ok=True)\n",
    "        real_noise(v_path, out_path, **cfg)"
   ]
  },
  {
   "attachments": {},
   "cell_type": "markdown",
   "metadata": {},
   "source": [
    "### 音视频异步缺失"
   ]
  },
  {
   "cell_type": "code",
   "execution_count": 6,
   "metadata": {},
   "outputs": [
    {
     "name": "stderr",
     "output_type": "stream",
     "text": [
      "Missing rate: 0.1: 100%|██████████| 62/62 [01:56<00:00,  1.87s/it]\n",
      "Missing rate: 0.2: 100%|██████████| 62/62 [01:53<00:00,  1.83s/it]\n",
      "Missing rate: 0.4: 100%|██████████| 62/62 [01:51<00:00,  1.80s/it]\n",
      "Missing rate: 0.6: 100%|██████████| 62/62 [01:48<00:00,  1.75s/it]\n",
      "Missing rate: 0.8: 100%|██████████| 62/62 [01:45<00:00,  1.71s/it]\n"
     ]
    }
   ],
   "source": [
    "setup_seed(SEED)\n",
    "missing_rates = [0.1, 0.2, 0.4, 0.6, 0.8]\n",
    "for missing_rate in missing_rates:\n",
    "    (Path(ROOT_DIR) / \"async_missing\" / str(missing_rate)).mkdir(parents=True, exist_ok=True)\n",
    "    pbar = tqdm(video_paths)\n",
    "    pbar.set_description(f\"Missing rate: {missing_rate}\")\n",
    "    for v_path in pbar:\n",
    "        cfg = real_noise_config(\n",
    "            v_path, \n",
    "            mode = \"random_full\", \n",
    "            v_noise_list=[\"blank\"],\n",
    "            v_noise_num = 1 if missing_rate in [0.1, 0.2, 0.4] else (1, 3),\n",
    "            v_noise_ratio = missing_rate, \n",
    "            a_noise_list = [\"mute\"],\n",
    "            a_noise_num = 1 if missing_rate in [0.1, 0.2, 0.4] else (1, 3),\n",
    "            a_noise_ratio = missing_rate,\n",
    "        )\n",
    "        out_path = Path(ROOT_DIR) / \"async_missing\" / str(missing_rate) / v_path.name\n",
    "        out_path.parent.mkdir(parents=True, exist_ok=True)\n",
    "        real_noise(v_path, out_path, **cfg._asdict())"
   ]
  },
  {
   "attachments": {},
   "cell_type": "markdown",
   "metadata": {},
   "source": [
    "# Noise"
   ]
  },
  {
   "attachments": {},
   "cell_type": "markdown",
   "metadata": {},
   "source": [
    "### 视频噪声"
   ]
  },
  {
   "cell_type": "code",
   "execution_count": 7,
   "metadata": {},
   "outputs": [
    {
     "name": "stderr",
     "output_type": "stream",
     "text": [
      "Noise Type: blur: 100%|██████████| 62/62 [03:26<00:00,  3.34s/it]\n",
      "Noise Type: occlusion: 100%|██████████| 62/62 [01:35<00:00,  1.54s/it]\n",
      "Noise Type: color: 100%|██████████| 62/62 [01:32<00:00,  1.49s/it]\n",
      "Noise Type: rgb2bgr: 100%|██████████| 62/62 [02:22<00:00,  2.30s/it]\n"
     ]
    }
   ],
   "source": [
    "setup_seed(SEED)\n",
    "noise_types = [\"blur\", \"occlusion\", \"color\", \"rgb2bgr\"]\n",
    "for noise_type in noise_types:\n",
    "    out_dir = Path(ROOT_DIR) / \"video_noise\" / str(noise_type)\n",
    "    out_dir.mkdir(parents=True, exist_ok=True)\n",
    "    pbar = tqdm(video_paths)\n",
    "    pbar.set_description(f\"Noise Type: {noise_type}\")\n",
    "    for v_path in pbar:\n",
    "        cfg = real_noise_config(\n",
    "            v_path, \n",
    "            mode = \"random_time\", \n",
    "            v_noise_list=[noise_type], \n",
    "            v_noise_ratio = 1.0,\n",
    "            v_noise_intensity = (0.4, 0.6),\n",
    "            a_noise_list = [],\n",
    "        )\n",
    "        out_path = out_dir / v_path.name\n",
    "        out_path.parent.mkdir(parents=True, exist_ok=True)\n",
    "        real_noise(v_path, out_path, **cfg._asdict())"
   ]
  },
  {
   "attachments": {},
   "cell_type": "markdown",
   "metadata": {},
   "source": [
    "### 音频噪声"
   ]
  },
  {
   "cell_type": "code",
   "execution_count": 9,
   "metadata": {},
   "outputs": [
    {
     "name": "stderr",
     "output_type": "stream",
     "text": [
      "Noise Type: background: 100%|██████████| 62/62 [00:19<00:00,  3.17it/s]\n"
     ]
    }
   ],
   "source": [
    "setup_seed(SEED)\n",
    "# noise_types = [\"lowpass\", \"background\", \"reverb\"]\n",
    "noise_types = [\"background\"]\n",
    "for noise_type in noise_types:\n",
    "    out_dir = Path(ROOT_DIR) / \"audio_noise\" / str(noise_type)\n",
    "    out_dir.mkdir(parents=True, exist_ok=True)\n",
    "    pbar = tqdm(video_paths)\n",
    "    pbar.set_description(f\"Noise Type: {noise_type}\")\n",
    "    for v_path in pbar:\n",
    "        cfg = real_noise_config(\n",
    "            v_path, \n",
    "            mode = \"random_time\", \n",
    "            a_noise_list=[noise_type], \n",
    "            a_noise_ratio = 1.0,\n",
    "            a_noise_intensity = (0.5, 0.8) if noise_type != \"background\" else (0.2, 0.5),\n",
    "            v_noise_list = [],\n",
    "        )\n",
    "        out_path = out_dir / v_path.name\n",
    "        out_path.parent.mkdir(parents=True, exist_ok=True)\n",
    "        real_noise(v_path, out_path, **cfg._asdict())"
   ]
  }
 ],
 "metadata": {
  "kernelspec": {
   "display_name": "sena",
   "language": "python",
   "name": "python3"
  },
  "language_info": {
   "codemirror_mode": {
    "name": "ipython",
    "version": 3
   },
   "file_extension": ".py",
   "mimetype": "text/x-python",
   "name": "python",
   "nbconvert_exporter": "python",
   "pygments_lexer": "ipython3",
   "version": "3.10.0"
  },
  "orig_nbformat": 4,
  "vscode": {
   "interpreter": {
    "hash": "ce6a210dddee41872ee95f5cdb7405e85c8c49e0291930108d754f683e16e177"
   }
  }
 },
 "nbformat": 4,
 "nbformat_minor": 2
}
